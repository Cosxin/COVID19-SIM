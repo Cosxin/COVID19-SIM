{
 "cells": [
  {
   "cell_type": "code",
   "execution_count": 129,
   "metadata": {},
   "outputs": [],
   "source": [
    "import numpy as np\n",
    "from scipy.integrate import odeint\n",
    "import matplotlib.pyplot as plt\n",
    "from ipywidgets import interact"
   ]
  },
  {
   "cell_type": "markdown",
   "metadata": {},
   "source": [
    "# ODE-based Simulation Model Checkpoint\n",
    "## 1. Simple SEIR model\n",
    "The simulation function can be written as \n",
    "\n",
    "$$\\frac{d S}{d t} =\\mu(N-S)-\\beta \\frac{S I}{N}$$\n",
    "\n",
    "$$\\frac{d E}{d t} =\\beta \\frac{S I}{N}-(\\mu+\\sigma) E$$\n",
    "\n",
    "$$\\frac{d I}{d t} =\\sigma E-(\\mu+\\gamma) I$$\n",
    "\n",
    "$$\\frac{d R}{d t} =\\gamma I-\\mu R$$\n",
    "where $S, E, I, R$ stands for the *Susceptible*, *Exposed*, *Infected*, *Recovered* people respectively. \n",
    "\n",
    "- $N = S+E+I+R$ is the total number of population, \n",
    "- $\\beta$ controls how often a susceptible-infected contact results in a new exposure, \n",
    "- $\\gamma$ is\tthe rate an infected recovers and moves into the resistant phase, \n",
    "- $\\sigma$ is the rate an exposed person becomes infective, \n",
    "- $\\mu$ is the natural mortality rate (unrelated to disease)."
   ]
  },
  {
   "cell_type": "code",
   "execution_count": 130,
   "metadata": {},
   "outputs": [],
   "source": [
    "def seir_base_simulation(N = 1000, \n",
    "                         I0 = 5, \n",
    "                         R0 = 0, \n",
    "                         E0 = 5, \n",
    "                         beta = 0.8, \n",
    "                         gamma = 0.1, \n",
    "                         sigma = 0.3, \n",
    "                         mu = 0.0001, \n",
    "                         t = 100):\n",
    "\n",
    "    # Total population, N.\n",
    "    #N = N\n",
    "    # Initial number of infected and recovered individuals, I0 and R0.\n",
    "    #I0, R0 = 1, 0\n",
    "    # Everyone else, S0, is susceptible to infection initially.\n",
    "    S0 = N - I0 - R0 - E0\n",
    "    # Contact rate, beta, and mean recovery rate, gamma, (in 1/days).\n",
    "    # A grid of time points (in days)\n",
    "    t = np.linspace(0, t, t)\n",
    "\n",
    "    # The SIR model differential equations.\n",
    "    def deriv(y, t, N, beta, gamma, sigma, mu):\n",
    "        S, E, I, R = y\n",
    "        beta = beta # * np.exp(-t/50)\n",
    "        dSdt = mu * (N - S) - beta * S * I / N\n",
    "        dEdt = beta * S * I / N - (mu + sigma) * E\n",
    "        dIdt = sigma * E - (mu + gamma) * I\n",
    "        dRdt = gamma * I - mu * R\n",
    "        return dSdt, dEdt, dIdt, dRdt\n",
    "\n",
    "    # Initial conditions vector\n",
    "    y0 = S0, E0, I0, R0\n",
    "    # Integrate the SIR equations over the time grid, t.\n",
    "    ret = odeint(deriv, y0, t, args=(N, beta, gamma, sigma, mu))\n",
    "    S, E, I, R = ret.T\n",
    "\n",
    "    # Plot the data on three separate curves for S(t), I(t) and R(t)\n",
    "    fig = plt.figure(facecolor='w', figsize = [9, 6])\n",
    "    ax = fig.add_subplot(111,  axisbelow=True)\n",
    "    ax.plot(t, S/N, 'b', alpha=0.6, lw=2.5, label='Susceptible')\n",
    "    ax.plot(t, E/N, 'purple', alpha=0.6, lw=2.5, label='Exposed')\n",
    "    ax.plot(t, I/N, 'r', alpha=0.6, lw=2.5, label='Infected')\n",
    "    ax.plot(t, R/N, 'g', alpha=0.6, lw=2.5, label='Recovered')\n",
    "    ax.set_xlabel('Time /days')\n",
    "    ax.set_ylabel('Ratio of people')\n",
    "    ax.set_ylim(0,1.1)\n",
    "    ax.yaxis.set_tick_params(length=0)\n",
    "    ax.xaxis.set_tick_params(length=0)\n",
    "    ax.grid(b=True, which='major',  c='grey',lw=1, ls=':')\n",
    "    legend = ax.legend()\n",
    "    legend.get_frame().set_alpha(0.5)\n",
    "    for spine in ('top', 'right', 'bottom', 'left'):\n",
    "        ax.spines[spine].set_visible(False)\n",
    "    plt.show()"
   ]
  },
  {
   "cell_type": "markdown",
   "metadata": {},
   "source": [
    "# Simulation with interaction.\n",
    "By changing different values on different parameters, the shape of curve will be different."
   ]
  },
  {
   "cell_type": "code",
   "execution_count": 131,
   "metadata": {},
   "outputs": [
    {
     "data": {
      "application/vnd.jupyter.widget-view+json": {
       "model_id": "8d53e5d9d24c4fea8bb3aba00d1302b4",
       "version_major": 2,
       "version_minor": 0
      },
      "text/plain": [
       "interactive(children=(IntSlider(value=1000, description='N', max=1000, min=1), IntSlider(value=5, description=…"
      ]
     },
     "metadata": {},
     "output_type": "display_data"
    }
   ],
   "source": [
    "interact (seir_base_simulation\n",
    "    , N=(1, 1000, 1)\n",
    "    , I0=(1, 50, 1)\n",
    "    , E0=(0, 100,1)\n",
    "    , beta=(0, 1, 0.05)\n",
    "    , gamma = (0, 0.5, 0.01)\n",
    "    , sigma = (0, 1, 0.05)\n",
    "    , mu = (0, 0.01, 0.001)\n",
    "    , t = (0, 300, 10)\n",
    "    );\n"
   ]
  },
  {
   "cell_type": "markdown",
   "metadata": {},
   "source": [
    "# More Complex Model: Considering Quarantine\n",
    "Apart from the existing modules in SIRS model, we also considers the effect of self-quaratine, the infected/exposed people will stay at home to avoid interacting with others.\n",
    "Specifically, we add to extra parameter $Q_E$, $Q_I$ which stand for the number of exposed/infected population being quarantined respectively. Then, the ODE formula can be expressed as \n",
    "$$\\frac{d S}{d t} =\\mu(N-S)-\\beta \\frac{S I}{N}$$\n",
    "\n",
    "$$\\frac{d E}{d t} =\\beta \\frac{S I}{N}-(\\mu+\\sigma+q) E$$\n",
    "\n",
    "$$\\frac{d I}{d t} =\\sigma E-(\\mu+\\gamma+q) I$$\n",
    "\n",
    "$$\\frac{d R}{d t} =\\gamma (I+Q_I)-\\mu R$$\n",
    "\n",
    "$$\\frac{d Q_E}{d t} =- \\sigma  Q_E + q  E$$\n",
    "\n",
    "$$\\frac{d Q_I}{d t} =- \\gamma  Q_I + \\sigma Q_E + q I$$\n",
    "\n",
    "- $q$ is the proportion of population being self-quarantined."
   ]
  },
  {
   "cell_type": "code",
   "execution_count": 132,
   "metadata": {},
   "outputs": [],
   "source": [
    "def seir_add_simulation(N = 1000, \n",
    "                         I0 = 1, \n",
    "                         R0 = 0, \n",
    "                         E0 = 0, \n",
    "                         beta = 0.8, \n",
    "                         gamma = 0.1, \n",
    "                         sigma = 0.3, \n",
    "                         mu = 0.0001, \n",
    "                         q = 0.05,\n",
    "                         t = 100):\n",
    "\n",
    "    # Total population, N.\n",
    "    #N = N\n",
    "    # Initial number of infected and recovered individuals, I0 and R0.\n",
    "    #I0, R0 = 1, 0\n",
    "    # Everyone else, S0, is susceptible to infection initially.\n",
    "    QE0, QI0 = 0, 0\n",
    "    S0 = N - I0 - R0 - E0 - QE0 - QI0\n",
    "    \n",
    "    # Contact rate, beta, and mean recovery rate, gamma, (in 1/days).\n",
    "    # A grid of time points (in days)\n",
    "    t = np.linspace(0, t, t)\n",
    "\n",
    "    # The SIR model differential equations.\n",
    "    def deriv(y, t, N, beta, gamma, sigma, mu, q):\n",
    "        S, E, I, QE, QI, R = y\n",
    "        dSdt = mu * (N - S) -beta * S * I / N\n",
    "        dEdt = beta * S * I / N - (mu + sigma + q) * E\n",
    "        dIdt = sigma * E - (mu + gamma + q) * I\n",
    "        dRdt = gamma * I - mu * R + gamma * QI\n",
    "        dQEdt = - sigma * QE + q * E\n",
    "        dQIdt = - gamma * QI + sigma * QE + q * I\n",
    "        return dSdt, dEdt, dIdt, dQEdt, dQIdt, dRdt\n",
    "\n",
    "    # Initial conditions vector\n",
    "    y0 = S0, E0, I0, QE0, QI0, R0\n",
    "    # Integrate the SIR equations over the time grid, t.\n",
    "    ret = odeint(deriv, y0, t, args=(N, beta, gamma, sigma, mu, q))\n",
    "    S, E, I, QE, QI, R = ret.T\n",
    "\n",
    "    # Plot the data on three separate curves for S(t), I(t) and R(t)\n",
    "    fig = plt.figure(facecolor='w', figsize = [9, 6])\n",
    "    ax = fig.add_subplot(111,  axisbelow=True)\n",
    "    ax.plot(t, S/N, 'b', alpha=0.6, lw=2.5, label='Susceptible')\n",
    "    ax.plot(t, (E+QE)/N, 'purple', alpha=0.6, lw=2.5, label='Exposed')\n",
    "    ax.plot(t, (I+QI)/N, 'r', alpha=0.6, lw=2.5, label='Infected')\n",
    "    ax.plot(t, R/N, 'g', alpha=0.6, lw=2.5, label='Recovered')\n",
    "    #ax.plot(t, QE/N, 'hotpink', alpha=0.6, lw=2.5, label='Recovered')\n",
    "    #ax.plot(t, QI/N, 'orange', alpha=0.6, lw=2.5, label='Recovered')\n",
    "    ax.set_xlabel('Time /days')\n",
    "    ax.set_ylabel('Ratio of people')\n",
    "    ax.set_ylim(0,1.1)\n",
    "    ax.yaxis.set_tick_params(length=0)\n",
    "    ax.xaxis.set_tick_params(length=0)\n",
    "    ax.grid(b=True, which='major',  c='grey',lw=1, ls=':')\n",
    "    legend = ax.legend()\n",
    "    legend.get_frame().set_alpha(0.5)\n",
    "    for spine in ('top', 'right', 'bottom', 'left'):\n",
    "        ax.spines[spine].set_visible(False)\n",
    "    plt.show()"
   ]
  },
  {
   "cell_type": "markdown",
   "metadata": {},
   "source": [
    "Simulation with interaction.\n",
    "By changing different values on different parameters, the shape of curve will be different.\n",
    "Compare our model with different $q$, it is clear that quarantine will reduce the total proportion of infected population."
   ]
  },
  {
   "cell_type": "code",
   "execution_count": 134,
   "metadata": {},
   "outputs": [
    {
     "data": {
      "application/vnd.jupyter.widget-view+json": {
       "model_id": "64ea68f6386841109369066098c95605",
       "version_major": 2,
       "version_minor": 0
      },
      "text/plain": [
       "interactive(children=(IntSlider(value=1000, description='N', max=1000, min=1), IntSlider(value=1, description=…"
      ]
     },
     "metadata": {},
     "output_type": "display_data"
    }
   ],
   "source": [
    "interact (seir_add_simulation\n",
    "    , N=(1, 1000, 1)\n",
    "    , I0=(1, 50, 1)\n",
    "    , E0=(0, 100,1)\n",
    "    , beta=(0, 1, 0.05)\n",
    "    , gamma = (0, 0.5, 0.01)\n",
    "    , sigma = (0, 1, 0.05)\n",
    "    , mu = (0, 0.01, 0.001)\n",
    "    , q = (0, 1, 0.05)\n",
    "    , t = (0, 300, 10)\n",
    "    );\n"
   ]
  },
  {
   "cell_type": "code",
   "execution_count": null,
   "metadata": {},
   "outputs": [],
   "source": []
  }
 ],
 "metadata": {
  "kernelspec": {
   "display_name": "Python 3",
   "language": "python",
   "name": "python3"
  },
  "language_info": {
   "codemirror_mode": {
    "name": "ipython",
    "version": 3
   },
   "file_extension": ".py",
   "mimetype": "text/x-python",
   "name": "python",
   "nbconvert_exporter": "python",
   "pygments_lexer": "ipython3",
   "version": "3.7.4"
  }
 },
 "nbformat": 4,
 "nbformat_minor": 2
}
